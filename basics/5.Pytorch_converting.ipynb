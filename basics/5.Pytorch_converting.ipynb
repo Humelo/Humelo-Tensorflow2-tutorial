{
 "cells": [
  {
   "cell_type": "markdown",
   "metadata": {},
   "source": [
    "# From Pytorch to TF2\n",
    "You can easily convert models implemented in pytorch to tensorflow 2.0.\n",
    "all you have to do is change module names or inherits to fit into tensorflow style\n",
    "\n",
    "For example,\n",
    "\n",
    "pytorch, class inherits nn.Module ->\n",
    "tf2, class inherits keras.Model\n",
    "\n",
    "pytorch, when model is called forward method is excecuted ->\n",
    "tf2, when model is called call method is excecuted ->\n",
    "\n",
    "and there is some difference in built-in layers (e.g. nn.Linear, layers.Dense)"
   ]
  },
  {
   "cell_type": "code",
   "execution_count": 33,
   "metadata": {},
   "outputs": [],
   "source": [
    "import torch\n",
    "import torch.nn as nn\n",
    "\n",
    "class Torch_FF(nn.Module):\n",
    "    def __init__(self, hidden_dim:int, projection_dim:int,dropout:float):\n",
    "        super(Torch_FF, self).__init__()\n",
    "\n",
    "        self.net = nn.Sequential(\n",
    "            nn.Linear(hidden_dim, projection_dim), nn.ReLU(inplace=True),\n",
    "            nn.Dropout(dropout),\n",
    "            nn.Linear(projection_dim, hidden_dim),\n",
    "            nn.Dropout(dropout),\n",
    "        )\n",
    "\n",
    "    def forward(self, x):\n",
    "        out = self.net(x)\n",
    "        \n",
    "\n",
    "        return x + out\n",
    "\n",
    "    "
   ]
  },
  {
   "cell_type": "code",
   "execution_count": 31,
   "metadata": {},
   "outputs": [
    {
     "data": {
      "text/plain": [
       "tensor([[ 1.6699e+16, -1.2226e+16,  2.1745e+17,  1.5110e+16,  3.5698e+14,\n",
       "         -2.5156e+16, -1.7221e+16, -2.3056e+16, -8.0133e+14,  1.3911e+16],\n",
       "        [-2.7368e-01,  1.1150e-01,  1.1580e-01, -6.0430e-02, -1.4547e-01,\n",
       "          5.6057e-03, -2.2734e-01, -9.5633e-03,  1.2671e-01, -4.5635e-02],\n",
       "        [-2.7994e-01,  1.1146e-01,  1.2826e-01, -5.7368e-02, -1.3914e-01,\n",
       "         -4.9996e-03, -2.3469e-01,  1.6974e-03,  1.3594e-01, -5.1078e-02],\n",
       "        [ 6.6571e-03,  9.6350e-02,  1.3770e-01, -5.7302e-02, -1.4289e-01,\n",
       "          2.5392e-02, -2.5079e-01, -6.3375e-03,  1.2375e-01, -3.2977e-02]],\n",
       "       grad_fn=<AddBackward0>)"
      ]
     },
     "execution_count": 31,
     "metadata": {},
     "output_type": "execute_result"
    }
   ],
   "source": [
    "torchff = Torch_FF(10,20,0.1)\n",
    "x = torch.Tensor(4,10)\n",
    "torchff(x)"
   ]
  },
  {
   "cell_type": "code",
   "execution_count": 21,
   "metadata": {},
   "outputs": [],
   "source": [
    "import tensorflow as tf\n",
    "import tensorflow.keras as keras\n",
    "class TF_FF(keras.Model):\n",
    "    def __init__(self, hidden_dim:int, projection_dim:int,dropout:float):\n",
    "        super(TF_FF, self).__init__()\n",
    "\n",
    "        self.net = keras.Sequential([\n",
    "            keras.layers.Dense(projection_dim), keras.layers.ReLU(),\n",
    "            \n",
    "            keras.layers.Dropout(dropout),\n",
    "            keras.layers.Dense(hidden_dim),\n",
    "            \n",
    "            keras.layers.Dropout(dropout),]\n",
    "        )\n",
    "\n",
    "    def call(self, x):\n",
    "        out = self.net(x)\n",
    "\n",
    "        return x + out"
   ]
  },
  {
   "cell_type": "code",
   "execution_count": 32,
   "metadata": {},
   "outputs": [
    {
     "data": {
      "text/plain": [
       "<tf.Tensor: shape=(4, 10), dtype=float32, numpy=\n",
       "array([[ 0.3487363 ,  0.38890618, -0.70338446,  0.8884403 ,  0.17006144,\n",
       "         1.0657153 , -1.5677168 , -0.65966326, -2.0312881 ,  1.4952853 ],\n",
       "       [ 1.2307484 ,  1.0156591 ,  1.3497066 , -0.17376608, -0.27518564,\n",
       "        -1.2344555 , -1.1042955 ,  1.8668978 , -1.4143102 ,  1.5063248 ],\n",
       "       [-1.4251554 , -0.03378266,  0.27343386,  0.30450794, -1.264427  ,\n",
       "         1.0780145 , -1.395919  , -0.5393273 , -0.7790887 ,  0.35443807],\n",
       "       [-1.6541156 ,  1.7075299 , -1.018358  ,  0.8926296 , -0.18365347,\n",
       "        -0.3711658 , -1.6573474 ,  0.44739258, -0.67343515,  0.67227936]],\n",
       "      dtype=float32)>"
      ]
     },
     "execution_count": 32,
     "metadata": {},
     "output_type": "execute_result"
    }
   ],
   "source": [
    "tfff = TF_FF(10,20,0.1)\n",
    "x = tf.random.normal((4,10))\n",
    "tfff(x)"
   ]
  },
  {
   "cell_type": "code",
   "execution_count": 30,
   "metadata": {},
   "outputs": [
    {
     "data": {
      "text/plain": [
       "tensor([ 4., 10.])"
      ]
     },
     "execution_count": 30,
     "metadata": {},
     "output_type": "execute_result"
    }
   ],
   "source": []
  },
  {
   "cell_type": "code",
   "execution_count": null,
   "metadata": {},
   "outputs": [],
   "source": []
  }
 ],
 "metadata": {
  "kernelspec": {
   "display_name": "Python 3",
   "language": "python",
   "name": "python3"
  },
  "language_info": {
   "codemirror_mode": {
    "name": "ipython",
    "version": 3
   },
   "file_extension": ".py",
   "mimetype": "text/x-python",
   "name": "python",
   "nbconvert_exporter": "python",
   "pygments_lexer": "ipython3",
   "version": "3.7.3"
  }
 },
 "nbformat": 4,
 "nbformat_minor": 2
}
