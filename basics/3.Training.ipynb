{
 "cells": [
  {
   "cell_type": "markdown",
   "metadata": {},
   "source": [
    "# Custom Training\n",
    "We can easily train our model following three procedures\n",
    "1. compute loss\n",
    "2. backpropagate\n",
    "3. apply gradient"
   ]
  },
  {
   "cell_type": "markdown",
   "metadata": {},
   "source": [
    "## 1. computing loss\n",
    "tensorflow provide wide range of loss functions, such as cross entropy and mean squared error, in keras.losses package. We can compute loss by passing predicted values and ground-truth to the loss function. \n"
   ]
  },
  {
   "cell_type": "code",
   "execution_count": 1,
   "metadata": {},
   "outputs": [
    {
     "data": {
      "text/plain": [
       "<module 'tensorflow_core.keras.losses' from '/home/bj1123/anaconda3/lib/python3.7/site-packages/tensorflow_core/python/keras/api/_v2/keras/losses/__init__.py'>"
      ]
     },
     "execution_count": 1,
     "metadata": {},
     "output_type": "execute_result"
    }
   ],
   "source": [
    "import tensorflow as tf\n",
    "from tensorflow import keras\n",
    "\n"
   ]
  },
  {
   "cell_type": "code",
   "execution_count": 4,
   "metadata": {},
   "outputs": [],
   "source": [
    "class SimpleModel(keras.Model):\n",
    "    def __init__(self, n_class):\n",
    "        super(SimpleModel,self).__init__()\n",
    "        self.output_layer = keras.layers.Dense(n_class)\n",
    "    \n",
    "    def call(self,x):\n",
    "        return self.output_layer(x)\n"
   ]
  },
  {
   "cell_type": "code",
   "execution_count": 20,
   "metadata": {},
   "outputs": [],
   "source": [
    "model = SimpleModel(5)\n",
    "loss = keras.losses.SparseCategoricalCrossentropy(from_logits=True) \n",
    "# from_logits argument indicates that whether or not the output of the model is converted to probability of target.\n",
    "# if from_logits is True, outout of the model is not converted to probability.\n",
    "with tf.GradientTape() as tape:\n",
    "    # we have to compute loss in tf.GradientTape for computing gradients in backpropagation \n",
    "    x = tf.random.normal((32,100))\n",
    "    y = tf.random.uniform((32,),0,5,dtype=tf.int64)\n",
    "\n",
    "    y_predicted = model(x)\n",
    "    computed_loss = loss(y_true=y, y_pred=y_predicted)"
   ]
  },
  {
   "cell_type": "markdown",
   "metadata": {},
   "source": [
    "## 2. Backpropagation\n",
    "We can compute the gradient using backpropagation in one line of code"
   ]
  },
  {
   "cell_type": "code",
   "execution_count": 21,
   "metadata": {},
   "outputs": [],
   "source": [
    "step_grad = tape.gradient(computed_loss, model.trainable_variables)\n",
    "# gradients of all trainable variables in the model according to computed loss is computed"
   ]
  },
  {
   "cell_type": "markdown",
   "metadata": {},
   "source": [
    "## 3. Apply gradients\n",
    "To apply gradients, we must have an optimizer. Tensorflow provide most well-known optimizers in keras.optimizer module. All we have to do is call apply_gradients method\n"
   ]
  },
  {
   "cell_type": "code",
   "execution_count": 23,
   "metadata": {},
   "outputs": [
    {
     "data": {
      "text/plain": [
       "<tf.Variable 'UnreadVariable' shape=() dtype=int64, numpy=1>"
      ]
     },
     "execution_count": 23,
     "metadata": {},
     "output_type": "execute_result"
    }
   ],
   "source": [
    "optimizer = keras.optimizers.Adam(0.001) #learning rate\n",
    "optimizer.apply_gradients(zip(step_grad, model.trainable_variables))"
   ]
  },
  {
   "cell_type": "markdown",
   "metadata": {},
   "source": [
    "## 4. Training Epoch\n",
    "These procedures can be applied for the entire datasets"
   ]
  },
  {
   "cell_type": "code",
   "execution_count": 82,
   "metadata": {},
   "outputs": [],
   "source": [
    "X = tf.random.normal((10000,100))\n",
    "Y = tf.random.uniform((10000,),0,5,dtype=tf.int64)\n",
    "\n",
    "data = tf.data.Dataset.from_tensor_slices((X,Y))"
   ]
  },
  {
   "cell_type": "code",
   "execution_count": 83,
   "metadata": {},
   "outputs": [],
   "source": [
    "batchfier = data.batch(10)"
   ]
  },
  {
   "cell_type": "code",
   "execution_count": 84,
   "metadata": {},
   "outputs": [],
   "source": [
    "def train_epoch(batchfier,model,optimizer):\n",
    "    pbar = tf.keras.utils.Progbar(1000)\n",
    "    pbar_cnt = 0\n",
    "    for x,y in batchfier:\n",
    "        pbar_cnt+=1\n",
    "        with tf.GradientTape() as tape:\n",
    "            y_predicted = model(x)\n",
    "            computed_loss = loss(y_true=y, y_pred=y_predicted)\n",
    "        step_grad = tape.gradient(computed_loss, model.trainable_variables)\n",
    "        optimizer.apply_gradients(zip(step_grad, model.trainable_variables))\n",
    "        pbar.update(pbar_cnt, [['loss',tf.reduce_mean(computed_loss)]])"
   ]
  },
  {
   "cell_type": "code",
   "execution_count": 85,
   "metadata": {},
   "outputs": [
    {
     "name": "stdout",
     "output_type": "stream",
     "text": [
      "1000/1000 [==============================] - 4s 4ms/step - loss: 1.6279\n"
     ]
    }
   ],
   "source": [
    "train_epoch(batchfier,model,optimizer)"
   ]
  },
  {
   "cell_type": "code",
   "execution_count": null,
   "metadata": {},
   "outputs": [],
   "source": []
  }
 ],
 "metadata": {
  "kernelspec": {
   "display_name": "Python 3",
   "language": "python",
   "name": "python3"
  },
  "language_info": {
   "codemirror_mode": {
    "name": "ipython",
    "version": 3
   },
   "file_extension": ".py",
   "mimetype": "text/x-python",
   "name": "python",
   "nbconvert_exporter": "python",
   "pygments_lexer": "ipython3",
   "version": "3.7.3"
  }
 },
 "nbformat": 4,
 "nbformat_minor": 2
}
